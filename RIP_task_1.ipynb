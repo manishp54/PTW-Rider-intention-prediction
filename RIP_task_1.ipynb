{
 "cells": [
  {
   "cell_type": "code",
   "execution_count": 1,
   "metadata": {},
   "outputs": [
    {
     "name": "stdout",
     "output_type": "stream",
     "text": [
      "processing class=0:Left Lane Change\n",
      "processing class=1:Left Turn\n",
      "processing class=2:Right Lane Change\n",
      "processing class=3:Right Turn\n",
      "processing class=4:Slow-Stop\n",
      "processing class=5:Straight\n",
      "(300, 512)\n"
     ]
    }
   ],
   "source": [
    "\n",
    "import os\n",
    "import numpy as np\n",
    "\n",
    "\n",
    "\n",
    "def load_video_features(base_dir):\n",
    "    data = []\n",
    "    labels = []\n",
    "    class_names = sorted(os.listdir(base_dir))\n",
    "\n",
    "    for class_idx,class_name in enumerate(class_names):\n",
    "        class_dir = os.path.join(base_dir, class_name)\n",
    "        video_files = sorted(os.listdir(class_dir))\n",
    "        print (f'processing class={class_idx}:{class_name}')\n",
    "\n",
    "        for video_file in video_files:\n",
    "            video_path = os.path.join(class_dir, video_file)\n",
    "            features = np.load(video_path)\n",
    "            features = features.reshape(features.shape[0], -1) \n",
    "            # video_features = np.load(video_path, allow_pickle=True)\n",
    "            # features = video_features.item()['resnet'].reshape(-1)\n",
    "            data.append(features)\n",
    "            labels.append(class_idx)\n",
    "\n",
    "    return data, labels,class_names\n",
    "\n",
    "# Example usage\n",
    "base_dir ='F:\\Downloads\\RIP_dataset\\VGG16_Training_Features\\\\frontal_view'\n",
    "video_features_train, video_labels_train, class_names = load_video_features(base_dir)\n",
    "video_labels_train=np.array(video_labels_train)\n",
    "print(video_features_train[0].shape)\n"
   ]
  },
  {
   "cell_type": "code",
   "execution_count": 2,
   "metadata": {},
   "outputs": [],
   "source": [
    "def pad_videos(video_features):\n",
    "    max_frames = max(video.shape[0] for video in video_features)\n",
    "    max_frames=300\n",
    "    padded_videos = []\n",
    "\n",
    "    for video in video_features:\n",
    "        num_frames = video.shape[0]\n",
    "        if num_frames < max_frames:\n",
    "            padding = np.zeros((max_frames - num_frames, video.shape[1]))\n",
    "            #padding = np.zeros((max_frames - num_frames))\n",
    "            padded_video = np.concatenate((video, padding), axis=0)\n",
    "        elif num_frames > max_frames:\n",
    "            selected_indices =sorted(np.random.choice(num_frames, max_frames, replace=False))\n",
    "            #selected_indices = np.linspace(0, num_frames - 1, max_frames).astype(int)\n",
    "            padded_video = video[selected_indices]\n",
    "        else:\n",
    "            padded_video = video\n",
    "        padded_videos.append(padded_video)\n",
    "\n",
    "    return np.array(padded_videos)\n"
   ]
  },
  {
   "cell_type": "code",
   "execution_count": 3,
   "metadata": {},
   "outputs": [
    {
     "name": "stdout",
     "output_type": "stream",
     "text": [
      "trin padded feature:  (500, 300, 512)\n"
     ]
    }
   ],
   "source": [
    "X_vgg_train= pad_videos(video_features_train)\n",
    "print(\"trin padded feature: \",X_vgg_train.shape)"
   ]
  },
  {
   "cell_type": "code",
   "execution_count": 6,
   "metadata": {},
   "outputs": [
    {
     "name": "stdout",
     "output_type": "stream",
     "text": [
      "X_train: (500, 153600)\n"
     ]
    }
   ],
   "source": [
    "X_train_flat = X_vgg_train.reshape(X_vgg_train.shape[0], -1)\n",
    "print(\"X_train:\",X_train_flat.shape)"
   ]
  },
  {
   "cell_type": "code",
   "execution_count": 8,
   "metadata": {},
   "outputs": [],
   "source": [
    "y_train=video_labels_train"
   ]
  },
  {
   "cell_type": "code",
   "execution_count": 9,
   "metadata": {},
   "outputs": [
    {
     "name": "stdout",
     "output_type": "stream",
     "text": [
      "Original shape: (500, 153600)\n",
      "Resampled shape: (960, 153600)\n",
      "Original labels distribution: [ 29 160  39 154  44  74]\n",
      "Resampled labels distribution: [160 160 160 160 160 160]\n"
     ]
    }
   ],
   "source": [
    "from imblearn.over_sampling import SMOTE\n",
    "\n",
    "smote = SMOTE(random_state=42)\n",
    "X_train_resampled, y_train_resampled = smote.fit_resample(X_train_flat, y_train)\n",
    "print(\"Original shape:\", X_train_flat.shape)\n",
    "print(\"Resampled shape:\", X_train_resampled.shape)\n",
    "print(\"Original labels distribution:\", np.bincount(y_train))\n",
    "print(\"Resampled labels distribution:\", np.bincount(y_train_resampled))"
   ]
  },
  {
   "cell_type": "code",
   "execution_count": 11,
   "metadata": {},
   "outputs": [],
   "source": [
    "y_train=y_train_resampled"
   ]
  },
  {
   "cell_type": "code",
   "execution_count": 12,
   "metadata": {},
   "outputs": [
    {
     "data": {
      "text/html": [
       "<style>#sk-container-id-1 {\n",
       "  /* Definition of color scheme common for light and dark mode */\n",
       "  --sklearn-color-text: black;\n",
       "  --sklearn-color-line: gray;\n",
       "  /* Definition of color scheme for unfitted estimators */\n",
       "  --sklearn-color-unfitted-level-0: #fff5e6;\n",
       "  --sklearn-color-unfitted-level-1: #f6e4d2;\n",
       "  --sklearn-color-unfitted-level-2: #ffe0b3;\n",
       "  --sklearn-color-unfitted-level-3: chocolate;\n",
       "  /* Definition of color scheme for fitted estimators */\n",
       "  --sklearn-color-fitted-level-0: #f0f8ff;\n",
       "  --sklearn-color-fitted-level-1: #d4ebff;\n",
       "  --sklearn-color-fitted-level-2: #b3dbfd;\n",
       "  --sklearn-color-fitted-level-3: cornflowerblue;\n",
       "\n",
       "  /* Specific color for light theme */\n",
       "  --sklearn-color-text-on-default-background: var(--sg-text-color, var(--theme-code-foreground, var(--jp-content-font-color1, black)));\n",
       "  --sklearn-color-background: var(--sg-background-color, var(--theme-background, var(--jp-layout-color0, white)));\n",
       "  --sklearn-color-border-box: var(--sg-text-color, var(--theme-code-foreground, var(--jp-content-font-color1, black)));\n",
       "  --sklearn-color-icon: #696969;\n",
       "\n",
       "  @media (prefers-color-scheme: dark) {\n",
       "    /* Redefinition of color scheme for dark theme */\n",
       "    --sklearn-color-text-on-default-background: var(--sg-text-color, var(--theme-code-foreground, var(--jp-content-font-color1, white)));\n",
       "    --sklearn-color-background: var(--sg-background-color, var(--theme-background, var(--jp-layout-color0, #111)));\n",
       "    --sklearn-color-border-box: var(--sg-text-color, var(--theme-code-foreground, var(--jp-content-font-color1, white)));\n",
       "    --sklearn-color-icon: #878787;\n",
       "  }\n",
       "}\n",
       "\n",
       "#sk-container-id-1 {\n",
       "  color: var(--sklearn-color-text);\n",
       "}\n",
       "\n",
       "#sk-container-id-1 pre {\n",
       "  padding: 0;\n",
       "}\n",
       "\n",
       "#sk-container-id-1 input.sk-hidden--visually {\n",
       "  border: 0;\n",
       "  clip: rect(1px 1px 1px 1px);\n",
       "  clip: rect(1px, 1px, 1px, 1px);\n",
       "  height: 1px;\n",
       "  margin: -1px;\n",
       "  overflow: hidden;\n",
       "  padding: 0;\n",
       "  position: absolute;\n",
       "  width: 1px;\n",
       "}\n",
       "\n",
       "#sk-container-id-1 div.sk-dashed-wrapped {\n",
       "  border: 1px dashed var(--sklearn-color-line);\n",
       "  margin: 0 0.4em 0.5em 0.4em;\n",
       "  box-sizing: border-box;\n",
       "  padding-bottom: 0.4em;\n",
       "  background-color: var(--sklearn-color-background);\n",
       "}\n",
       "\n",
       "#sk-container-id-1 div.sk-container {\n",
       "  /* jupyter's `normalize.less` sets `[hidden] { display: none; }`\n",
       "     but bootstrap.min.css set `[hidden] { display: none !important; }`\n",
       "     so we also need the `!important` here to be able to override the\n",
       "     default hidden behavior on the sphinx rendered scikit-learn.org.\n",
       "     See: https://github.com/scikit-learn/scikit-learn/issues/21755 */\n",
       "  display: inline-block !important;\n",
       "  position: relative;\n",
       "}\n",
       "\n",
       "#sk-container-id-1 div.sk-text-repr-fallback {\n",
       "  display: none;\n",
       "}\n",
       "\n",
       "div.sk-parallel-item,\n",
       "div.sk-serial,\n",
       "div.sk-item {\n",
       "  /* draw centered vertical line to link estimators */\n",
       "  background-image: linear-gradient(var(--sklearn-color-text-on-default-background), var(--sklearn-color-text-on-default-background));\n",
       "  background-size: 2px 100%;\n",
       "  background-repeat: no-repeat;\n",
       "  background-position: center center;\n",
       "}\n",
       "\n",
       "/* Parallel-specific style estimator block */\n",
       "\n",
       "#sk-container-id-1 div.sk-parallel-item::after {\n",
       "  content: \"\";\n",
       "  width: 100%;\n",
       "  border-bottom: 2px solid var(--sklearn-color-text-on-default-background);\n",
       "  flex-grow: 1;\n",
       "}\n",
       "\n",
       "#sk-container-id-1 div.sk-parallel {\n",
       "  display: flex;\n",
       "  align-items: stretch;\n",
       "  justify-content: center;\n",
       "  background-color: var(--sklearn-color-background);\n",
       "  position: relative;\n",
       "}\n",
       "\n",
       "#sk-container-id-1 div.sk-parallel-item {\n",
       "  display: flex;\n",
       "  flex-direction: column;\n",
       "}\n",
       "\n",
       "#sk-container-id-1 div.sk-parallel-item:first-child::after {\n",
       "  align-self: flex-end;\n",
       "  width: 50%;\n",
       "}\n",
       "\n",
       "#sk-container-id-1 div.sk-parallel-item:last-child::after {\n",
       "  align-self: flex-start;\n",
       "  width: 50%;\n",
       "}\n",
       "\n",
       "#sk-container-id-1 div.sk-parallel-item:only-child::after {\n",
       "  width: 0;\n",
       "}\n",
       "\n",
       "/* Serial-specific style estimator block */\n",
       "\n",
       "#sk-container-id-1 div.sk-serial {\n",
       "  display: flex;\n",
       "  flex-direction: column;\n",
       "  align-items: center;\n",
       "  background-color: var(--sklearn-color-background);\n",
       "  padding-right: 1em;\n",
       "  padding-left: 1em;\n",
       "}\n",
       "\n",
       "\n",
       "/* Toggleable style: style used for estimator/Pipeline/ColumnTransformer box that is\n",
       "clickable and can be expanded/collapsed.\n",
       "- Pipeline and ColumnTransformer use this feature and define the default style\n",
       "- Estimators will overwrite some part of the style using the `sk-estimator` class\n",
       "*/\n",
       "\n",
       "/* Pipeline and ColumnTransformer style (default) */\n",
       "\n",
       "#sk-container-id-1 div.sk-toggleable {\n",
       "  /* Default theme specific background. It is overwritten whether we have a\n",
       "  specific estimator or a Pipeline/ColumnTransformer */\n",
       "  background-color: var(--sklearn-color-background);\n",
       "}\n",
       "\n",
       "/* Toggleable label */\n",
       "#sk-container-id-1 label.sk-toggleable__label {\n",
       "  cursor: pointer;\n",
       "  display: block;\n",
       "  width: 100%;\n",
       "  margin-bottom: 0;\n",
       "  padding: 0.5em;\n",
       "  box-sizing: border-box;\n",
       "  text-align: center;\n",
       "}\n",
       "\n",
       "#sk-container-id-1 label.sk-toggleable__label-arrow:before {\n",
       "  /* Arrow on the left of the label */\n",
       "  content: \"▸\";\n",
       "  float: left;\n",
       "  margin-right: 0.25em;\n",
       "  color: var(--sklearn-color-icon);\n",
       "}\n",
       "\n",
       "#sk-container-id-1 label.sk-toggleable__label-arrow:hover:before {\n",
       "  color: var(--sklearn-color-text);\n",
       "}\n",
       "\n",
       "/* Toggleable content - dropdown */\n",
       "\n",
       "#sk-container-id-1 div.sk-toggleable__content {\n",
       "  max-height: 0;\n",
       "  max-width: 0;\n",
       "  overflow: hidden;\n",
       "  text-align: left;\n",
       "  /* unfitted */\n",
       "  background-color: var(--sklearn-color-unfitted-level-0);\n",
       "}\n",
       "\n",
       "#sk-container-id-1 div.sk-toggleable__content.fitted {\n",
       "  /* fitted */\n",
       "  background-color: var(--sklearn-color-fitted-level-0);\n",
       "}\n",
       "\n",
       "#sk-container-id-1 div.sk-toggleable__content pre {\n",
       "  margin: 0.2em;\n",
       "  border-radius: 0.25em;\n",
       "  color: var(--sklearn-color-text);\n",
       "  /* unfitted */\n",
       "  background-color: var(--sklearn-color-unfitted-level-0);\n",
       "}\n",
       "\n",
       "#sk-container-id-1 div.sk-toggleable__content.fitted pre {\n",
       "  /* unfitted */\n",
       "  background-color: var(--sklearn-color-fitted-level-0);\n",
       "}\n",
       "\n",
       "#sk-container-id-1 input.sk-toggleable__control:checked~div.sk-toggleable__content {\n",
       "  /* Expand drop-down */\n",
       "  max-height: 200px;\n",
       "  max-width: 100%;\n",
       "  overflow: auto;\n",
       "}\n",
       "\n",
       "#sk-container-id-1 input.sk-toggleable__control:checked~label.sk-toggleable__label-arrow:before {\n",
       "  content: \"▾\";\n",
       "}\n",
       "\n",
       "/* Pipeline/ColumnTransformer-specific style */\n",
       "\n",
       "#sk-container-id-1 div.sk-label input.sk-toggleable__control:checked~label.sk-toggleable__label {\n",
       "  color: var(--sklearn-color-text);\n",
       "  background-color: var(--sklearn-color-unfitted-level-2);\n",
       "}\n",
       "\n",
       "#sk-container-id-1 div.sk-label.fitted input.sk-toggleable__control:checked~label.sk-toggleable__label {\n",
       "  background-color: var(--sklearn-color-fitted-level-2);\n",
       "}\n",
       "\n",
       "/* Estimator-specific style */\n",
       "\n",
       "/* Colorize estimator box */\n",
       "#sk-container-id-1 div.sk-estimator input.sk-toggleable__control:checked~label.sk-toggleable__label {\n",
       "  /* unfitted */\n",
       "  background-color: var(--sklearn-color-unfitted-level-2);\n",
       "}\n",
       "\n",
       "#sk-container-id-1 div.sk-estimator.fitted input.sk-toggleable__control:checked~label.sk-toggleable__label {\n",
       "  /* fitted */\n",
       "  background-color: var(--sklearn-color-fitted-level-2);\n",
       "}\n",
       "\n",
       "#sk-container-id-1 div.sk-label label.sk-toggleable__label,\n",
       "#sk-container-id-1 div.sk-label label {\n",
       "  /* The background is the default theme color */\n",
       "  color: var(--sklearn-color-text-on-default-background);\n",
       "}\n",
       "\n",
       "/* On hover, darken the color of the background */\n",
       "#sk-container-id-1 div.sk-label:hover label.sk-toggleable__label {\n",
       "  color: var(--sklearn-color-text);\n",
       "  background-color: var(--sklearn-color-unfitted-level-2);\n",
       "}\n",
       "\n",
       "/* Label box, darken color on hover, fitted */\n",
       "#sk-container-id-1 div.sk-label.fitted:hover label.sk-toggleable__label.fitted {\n",
       "  color: var(--sklearn-color-text);\n",
       "  background-color: var(--sklearn-color-fitted-level-2);\n",
       "}\n",
       "\n",
       "/* Estimator label */\n",
       "\n",
       "#sk-container-id-1 div.sk-label label {\n",
       "  font-family: monospace;\n",
       "  font-weight: bold;\n",
       "  display: inline-block;\n",
       "  line-height: 1.2em;\n",
       "}\n",
       "\n",
       "#sk-container-id-1 div.sk-label-container {\n",
       "  text-align: center;\n",
       "}\n",
       "\n",
       "/* Estimator-specific */\n",
       "#sk-container-id-1 div.sk-estimator {\n",
       "  font-family: monospace;\n",
       "  border: 1px dotted var(--sklearn-color-border-box);\n",
       "  border-radius: 0.25em;\n",
       "  box-sizing: border-box;\n",
       "  margin-bottom: 0.5em;\n",
       "  /* unfitted */\n",
       "  background-color: var(--sklearn-color-unfitted-level-0);\n",
       "}\n",
       "\n",
       "#sk-container-id-1 div.sk-estimator.fitted {\n",
       "  /* fitted */\n",
       "  background-color: var(--sklearn-color-fitted-level-0);\n",
       "}\n",
       "\n",
       "/* on hover */\n",
       "#sk-container-id-1 div.sk-estimator:hover {\n",
       "  /* unfitted */\n",
       "  background-color: var(--sklearn-color-unfitted-level-2);\n",
       "}\n",
       "\n",
       "#sk-container-id-1 div.sk-estimator.fitted:hover {\n",
       "  /* fitted */\n",
       "  background-color: var(--sklearn-color-fitted-level-2);\n",
       "}\n",
       "\n",
       "/* Specification for estimator info (e.g. \"i\" and \"?\") */\n",
       "\n",
       "/* Common style for \"i\" and \"?\" */\n",
       "\n",
       ".sk-estimator-doc-link,\n",
       "a:link.sk-estimator-doc-link,\n",
       "a:visited.sk-estimator-doc-link {\n",
       "  float: right;\n",
       "  font-size: smaller;\n",
       "  line-height: 1em;\n",
       "  font-family: monospace;\n",
       "  background-color: var(--sklearn-color-background);\n",
       "  border-radius: 1em;\n",
       "  height: 1em;\n",
       "  width: 1em;\n",
       "  text-decoration: none !important;\n",
       "  margin-left: 1ex;\n",
       "  /* unfitted */\n",
       "  border: var(--sklearn-color-unfitted-level-1) 1pt solid;\n",
       "  color: var(--sklearn-color-unfitted-level-1);\n",
       "}\n",
       "\n",
       ".sk-estimator-doc-link.fitted,\n",
       "a:link.sk-estimator-doc-link.fitted,\n",
       "a:visited.sk-estimator-doc-link.fitted {\n",
       "  /* fitted */\n",
       "  border: var(--sklearn-color-fitted-level-1) 1pt solid;\n",
       "  color: var(--sklearn-color-fitted-level-1);\n",
       "}\n",
       "\n",
       "/* On hover */\n",
       "div.sk-estimator:hover .sk-estimator-doc-link:hover,\n",
       ".sk-estimator-doc-link:hover,\n",
       "div.sk-label-container:hover .sk-estimator-doc-link:hover,\n",
       ".sk-estimator-doc-link:hover {\n",
       "  /* unfitted */\n",
       "  background-color: var(--sklearn-color-unfitted-level-3);\n",
       "  color: var(--sklearn-color-background);\n",
       "  text-decoration: none;\n",
       "}\n",
       "\n",
       "div.sk-estimator.fitted:hover .sk-estimator-doc-link.fitted:hover,\n",
       ".sk-estimator-doc-link.fitted:hover,\n",
       "div.sk-label-container:hover .sk-estimator-doc-link.fitted:hover,\n",
       ".sk-estimator-doc-link.fitted:hover {\n",
       "  /* fitted */\n",
       "  background-color: var(--sklearn-color-fitted-level-3);\n",
       "  color: var(--sklearn-color-background);\n",
       "  text-decoration: none;\n",
       "}\n",
       "\n",
       "/* Span, style for the box shown on hovering the info icon */\n",
       ".sk-estimator-doc-link span {\n",
       "  display: none;\n",
       "  z-index: 9999;\n",
       "  position: relative;\n",
       "  font-weight: normal;\n",
       "  right: .2ex;\n",
       "  padding: .5ex;\n",
       "  margin: .5ex;\n",
       "  width: min-content;\n",
       "  min-width: 20ex;\n",
       "  max-width: 50ex;\n",
       "  color: var(--sklearn-color-text);\n",
       "  box-shadow: 2pt 2pt 4pt #999;\n",
       "  /* unfitted */\n",
       "  background: var(--sklearn-color-unfitted-level-0);\n",
       "  border: .5pt solid var(--sklearn-color-unfitted-level-3);\n",
       "}\n",
       "\n",
       ".sk-estimator-doc-link.fitted span {\n",
       "  /* fitted */\n",
       "  background: var(--sklearn-color-fitted-level-0);\n",
       "  border: var(--sklearn-color-fitted-level-3);\n",
       "}\n",
       "\n",
       ".sk-estimator-doc-link:hover span {\n",
       "  display: block;\n",
       "}\n",
       "\n",
       "/* \"?\"-specific style due to the `<a>` HTML tag */\n",
       "\n",
       "#sk-container-id-1 a.estimator_doc_link {\n",
       "  float: right;\n",
       "  font-size: 1rem;\n",
       "  line-height: 1em;\n",
       "  font-family: monospace;\n",
       "  background-color: var(--sklearn-color-background);\n",
       "  border-radius: 1rem;\n",
       "  height: 1rem;\n",
       "  width: 1rem;\n",
       "  text-decoration: none;\n",
       "  /* unfitted */\n",
       "  color: var(--sklearn-color-unfitted-level-1);\n",
       "  border: var(--sklearn-color-unfitted-level-1) 1pt solid;\n",
       "}\n",
       "\n",
       "#sk-container-id-1 a.estimator_doc_link.fitted {\n",
       "  /* fitted */\n",
       "  border: var(--sklearn-color-fitted-level-1) 1pt solid;\n",
       "  color: var(--sklearn-color-fitted-level-1);\n",
       "}\n",
       "\n",
       "/* On hover */\n",
       "#sk-container-id-1 a.estimator_doc_link:hover {\n",
       "  /* unfitted */\n",
       "  background-color: var(--sklearn-color-unfitted-level-3);\n",
       "  color: var(--sklearn-color-background);\n",
       "  text-decoration: none;\n",
       "}\n",
       "\n",
       "#sk-container-id-1 a.estimator_doc_link.fitted:hover {\n",
       "  /* fitted */\n",
       "  background-color: var(--sklearn-color-fitted-level-3);\n",
       "}\n",
       "</style><div id=\"sk-container-id-1\" class=\"sk-top-container\"><div class=\"sk-text-repr-fallback\"><pre>OneVsRestClassifier(estimator=SVC(class_weight={0: 6.0, 1: 1.5, 2: 2.5, 3: 0.8,\n",
       "                                                4: 3.0, 5: 1},\n",
       "                                  probability=True, random_state=42))</pre><b>In a Jupyter environment, please rerun this cell to show the HTML representation or trust the notebook. <br />On GitHub, the HTML representation is unable to render, please try loading this page with nbviewer.org.</b></div><div class=\"sk-container\" hidden><div class=\"sk-item sk-dashed-wrapped\"><div class=\"sk-label-container\"><div class=\"sk-label fitted sk-toggleable\"><input class=\"sk-toggleable__control sk-hidden--visually\" id=\"sk-estimator-id-1\" type=\"checkbox\" ><label for=\"sk-estimator-id-1\" class=\"sk-toggleable__label fitted sk-toggleable__label-arrow fitted\">&nbsp;&nbsp;OneVsRestClassifier<a class=\"sk-estimator-doc-link fitted\" rel=\"noreferrer\" target=\"_blank\" href=\"https://scikit-learn.org/1.5/modules/generated/sklearn.multiclass.OneVsRestClassifier.html\">?<span>Documentation for OneVsRestClassifier</span></a><span class=\"sk-estimator-doc-link fitted\">i<span>Fitted</span></span></label><div class=\"sk-toggleable__content fitted\"><pre>OneVsRestClassifier(estimator=SVC(class_weight={0: 6.0, 1: 1.5, 2: 2.5, 3: 0.8,\n",
       "                                                4: 3.0, 5: 1},\n",
       "                                  probability=True, random_state=42))</pre></div> </div></div><div class=\"sk-parallel\"><div class=\"sk-parallel-item\"><div class=\"sk-item\"><div class=\"sk-label-container\"><div class=\"sk-label fitted sk-toggleable\"><input class=\"sk-toggleable__control sk-hidden--visually\" id=\"sk-estimator-id-2\" type=\"checkbox\" ><label for=\"sk-estimator-id-2\" class=\"sk-toggleable__label fitted sk-toggleable__label-arrow fitted\">estimator: SVC</label><div class=\"sk-toggleable__content fitted\"><pre>SVC(class_weight={0: 6.0, 1: 1.5, 2: 2.5, 3: 0.8, 4: 3.0, 5: 1},\n",
       "    probability=True, random_state=42)</pre></div> </div></div><div class=\"sk-serial\"><div class=\"sk-item\"><div class=\"sk-estimator fitted sk-toggleable\"><input class=\"sk-toggleable__control sk-hidden--visually\" id=\"sk-estimator-id-3\" type=\"checkbox\" ><label for=\"sk-estimator-id-3\" class=\"sk-toggleable__label fitted sk-toggleable__label-arrow fitted\">&nbsp;SVC<a class=\"sk-estimator-doc-link fitted\" rel=\"noreferrer\" target=\"_blank\" href=\"https://scikit-learn.org/1.5/modules/generated/sklearn.svm.SVC.html\">?<span>Documentation for SVC</span></a></label><div class=\"sk-toggleable__content fitted\"><pre>SVC(class_weight={0: 6.0, 1: 1.5, 2: 2.5, 3: 0.8, 4: 3.0, 5: 1},\n",
       "    probability=True, random_state=42)</pre></div> </div></div></div></div></div></div></div></div></div>"
      ],
      "text/plain": [
       "OneVsRestClassifier(estimator=SVC(class_weight={0: 6.0, 1: 1.5, 2: 2.5, 3: 0.8,\n",
       "                                                4: 3.0, 5: 1},\n",
       "                                  probability=True, random_state=42))"
      ]
     },
     "execution_count": 12,
     "metadata": {},
     "output_type": "execute_result"
    }
   ],
   "source": [
    "from sklearn import svm\n",
    "from sklearn.multiclass import OneVsRestClassifier\n",
    "from sklearn.calibration import CalibratedClassifierCV\n",
    "\n",
    "class_weights = {0: 6.0, 1: 1.5, 2: 2.5, 3: 0.8, 4: 3.0, 5: 1}\n",
    "ova_clf = OneVsRestClassifier(svm.SVC(kernel='rbf', probability=True, class_weight=class_weights,random_state=42))\n",
    "ova_clf.fit(X_train_resampled, y_train)\n"
   ]
  },
  {
   "cell_type": "code",
   "execution_count": null,
   "metadata": {},
   "outputs": [],
   "source": [
    "import joblib\n",
    "model=joblib.load('ova_clf_model71.pkl')"
   ]
  },
  {
   "cell_type": "markdown",
   "metadata": {},
   "source": [
    "<h2> setting up validation data"
   ]
  },
  {
   "cell_type": "code",
   "execution_count": 13,
   "metadata": {},
   "outputs": [
    {
     "name": "stdout",
     "output_type": "stream",
     "text": [
      "processing class=0:Left Lane Change\n",
      "processing class=1:Left Turn\n",
      "processing class=2:Right Lane Change\n",
      "processing class=3:Right Turn\n",
      "processing class=4:Slow-Stop\n",
      "processing class=5:Straight\n",
      "(210, 512)\n",
      "['2d0536d0-b58e-4a83-a72a-bd0448b59d57', '2e1c1e90-7004-4303-b476-6c8d28d21510', '3a618b49-0021-41ef-9c98-ba089a30a597', '5a794d03-309b-4620-a96e-b4d3c2c8e8e2', '626c3338-70dd-40db-826f-3b7f9bfb11fa']\n"
     ]
    }
   ],
   "source": [
    "import os\n",
    "import numpy as np\n",
    "def load_video_features(base_dir):\n",
    "    data = []\n",
    "    labels = []\n",
    "    files=[]\n",
    "    class_names = sorted(os.listdir(base_dir))\n",
    "\n",
    "    for class_idx, class_name in enumerate(class_names):\n",
    "        class_dir = os.path.join(base_dir, class_name)\n",
    "        video_files = sorted(os.listdir(class_dir))\n",
    "        print (f'processing class={class_idx}:{class_name}')\n",
    "\n",
    "        for video_file in video_files:\n",
    "            video_path = os.path.join(class_dir, video_file)\n",
    "            features = np.load(video_path)\n",
    "            features = features.reshape(features.shape[0], -1)\n",
    "            # video_features = np.load(video_path, allow_pickle=True)\n",
    "            # features = video_features.item()['resnet']  # Assuming features are stored in .npy format\n",
    "            data.append(features)\n",
    "            labels.append(class_idx)\n",
    "            files.append(os.path.splitext(video_file)[0])\n",
    "\n",
    "    return data, labels,files\n",
    "\n",
    "# Example usage\n",
    "base_dir ='F:\\Downloads\\RIP_dataset\\VGG16_val_features\\\\frontal_view'\n",
    "video_features_val, video_labels_val, files = load_video_features(base_dir)\n",
    "video_labels_val=np.array(video_labels_val)\n",
    "print(video_features_val[0].shape)\n",
    "print(list(files[i] for i in range(5)))"
   ]
  },
  {
   "cell_type": "code",
   "execution_count": 14,
   "metadata": {},
   "outputs": [
    {
     "name": "stdout",
     "output_type": "stream",
     "text": [
      "val padded feature:  (200, 300, 512)\n"
     ]
    }
   ],
   "source": [
    "X_vgg_val= pad_videos(video_features_val)\n",
    "print(\"val padded feature: \",X_vgg_val.shape)\n"
   ]
  },
  {
   "cell_type": "code",
   "execution_count": 15,
   "metadata": {},
   "outputs": [
    {
     "name": "stdout",
     "output_type": "stream",
     "text": [
      "X_val: (200, 153600)\n"
     ]
    }
   ],
   "source": [
    "del(video_features_val)\n",
    "X_val_flat = X_vgg_val.reshape(X_vgg_val.shape[0], -1)\n",
    "print(\"X_val:\",X_val_flat.shape)"
   ]
  },
  {
   "cell_type": "code",
   "execution_count": 17,
   "metadata": {},
   "outputs": [],
   "source": [
    "y_val=video_labels_val"
   ]
  },
  {
   "cell_type": "code",
   "execution_count": 18,
   "metadata": {},
   "outputs": [
    {
     "name": "stdout",
     "output_type": "stream",
     "text": [
      "[0 1 1 2 2 0 5 0 2 4 2 2 2 0 1 2 2 1 2 3 1 1 1 1 3 1 0 1 3 0 1 1 1 3 3 1 1\n",
      " 3 1 3 1 1 3 1 1 1 1 1 1 1 1 1 1 1 2 1 3 4 2 2 2 5 2 4 4 1 0 2 4 0 1 2 2 3\n",
      " 3 3 3 3 3 1 3 3 3 1 3 3 3 5 3 3 1 2 3 3 5 3 3 3 3 3 3 3 3 1 3 3 3 3 1 3 1\n",
      " 3 3 3 3 3 3 3 3 3 2 3 3 4 4 4 4 4 1 4 2 4 1 2 4 2 4 3 2 3 3 3 4 4 3 4 3 4\n",
      " 1 5 5 5 5 5 5 5 5 5 5 5 5 5 5 5 2 5 5 5 5 5 5 5 5 5 5 5 4 5 5 5 5 5 5 5 5\n",
      " 5 5 5 5 5 4 5 5 5 5 5 5 5 5 5]\n",
      "Accuracy: 69.50%\n"
     ]
    }
   ],
   "source": [
    "from sklearn.metrics import accuracy_score\n",
    "\n",
    "proba = ova_clf.predict_proba(X_val_flat)  # Shape: (200*810, num_classes)\n",
    "# Get the class with the highest probability for each frame\n",
    "pred = np.argmax(proba, axis=1)\n",
    "print(pred)\n",
    "\n",
    "\n",
    "accuracy = accuracy_score(y_val,pred)\n",
    "print(f'Accuracy: {accuracy * 100:.2f}%')\n"
   ]
  },
  {
   "cell_type": "code",
   "execution_count": 21,
   "metadata": {},
   "outputs": [
    {
     "name": "stdout",
     "output_type": "stream",
     "text": [
      "F1 Score: 0.70\n"
     ]
    }
   ],
   "source": [
    "from sklearn.metrics import f1_score\n",
    "f1 = f1_score(y_val, pred, average='micro')\n",
    "print(f'F1 Score: {f1:.2f}')"
   ]
  },
  {
   "cell_type": "code",
   "execution_count": 39,
   "metadata": {},
   "outputs": [
    {
     "name": "stdout",
     "output_type": "stream",
     "text": [
      "CSV file saved to task1_val_predictions.csv\n"
     ]
    }
   ],
   "source": [
    "import numpy as np\n",
    "import pandas as pd\n",
    "\n",
    "\n",
    "num_classes = 6\n",
    "\n",
    "# Convert class indices to one-hot encoding\n",
    "one_hot_pred = np.zeros((len(pred), num_classes))\n",
    "one_hot_pred[np.arange(len(pred)), pred] = 1\n",
    "\n",
    "# Column names\n",
    "columns = ['frontal_view_video_name', 'Left Lane Change', 'Left Turn', 'Right Lane Change', 'Right Turn', 'Slow-Stop', 'Straight']\n",
    "\n",
    "# Create a DataFrame\n",
    "df = pd.DataFrame(one_hot_pred, columns=columns[1:])\n",
    "df.insert(0, 'frontal_view_video_name', files)\n",
    "\n",
    "# Save to CSV\n",
    "csv_file_path = 'task1_val_predictions.csv'\n",
    "df.to_csv(csv_file_path, index=False)\n",
    "\n",
    "print(f\"CSV file saved to {csv_file_path}\")\n"
   ]
  },
  {
   "cell_type": "code",
   "execution_count": 22,
   "metadata": {},
   "outputs": [
    {
     "data": {
      "text/plain": [
       "['ova_clf_model70_.pkl']"
      ]
     },
     "execution_count": 22,
     "metadata": {},
     "output_type": "execute_result"
    }
   ],
   "source": [
    "import joblib\n",
    "\n",
    "# Save the model\n",
    "joblib.dump(ova_clf, 'ova_clf_model70_.pkl')"
   ]
  },
  {
   "cell_type": "markdown",
   "metadata": {},
   "source": [
    "<h2> Test result"
   ]
  },
  {
   "cell_type": "code",
   "execution_count": 31,
   "metadata": {},
   "outputs": [
    {
     "name": "stdout",
     "output_type": "stream",
     "text": [
      "(82, 512)\n",
      "['004ed8d4-5be9-4963-bdb3-8aace317cd74', '00d5a64d-7e78-4662-9f00-c2a7c69cace8', '01bd1017-7748-4e0b-bf57-d9012563695a', '02d9a67f-cd75-4880-9e41-08b9369e5ded(1)', '02d9a67f-cd75-4880-9e41-08b9369e5ded']\n"
     ]
    }
   ],
   "source": [
    "import os\n",
    "import numpy as np\n",
    "def load_video_features(base_dir):\n",
    "    data = []\n",
    "    labels = []\n",
    "    files=[]\n",
    "    video_files = sorted(os.listdir(base_dir))\n",
    "    for video_file in video_files:\n",
    "        video_path = os.path.join(base_dir, video_file)\n",
    "        features = np.load(video_path)\n",
    "        features = features.reshape(features.shape[0], -1)\n",
    "        # video_features = np.load(video_path, allow_pickle=True)\n",
    "        #features = video_features.item()['resnet']  # Assuming features are stored in .npy format\n",
    "        data.append(features)\n",
    "        files.append(os.path.splitext(video_file)[0])\n",
    "\n",
    "    return data,files\n",
    "\n",
    "# Example usage\n",
    "base_dir ='F:\\Downloads\\RIP_dataset\\VGG16_test_features\\\\frontal_view\\\\VGG16_features'\n",
    "video_features_test, files = load_video_features(base_dir)\n",
    "print(video_features_test[0].shape)\n",
    "print(list(files[i] for i in range(5)))"
   ]
  },
  {
   "cell_type": "code",
   "execution_count": 32,
   "metadata": {},
   "outputs": [
    {
     "name": "stdout",
     "output_type": "stream",
     "text": [
      "val padded feature:  (299, 300, 512)\n"
     ]
    }
   ],
   "source": [
    "X_vgg_test= pad_videos(video_features_test)\n",
    "print(\"val padded feature: \",X_vgg_test.shape)\n"
   ]
  },
  {
   "cell_type": "code",
   "execution_count": 33,
   "metadata": {},
   "outputs": [
    {
     "name": "stdout",
     "output_type": "stream",
     "text": [
      "X_val: (299, 153600)\n"
     ]
    }
   ],
   "source": [
    "del(video_features_test)\n",
    "X_test_flat = X_vgg_test.reshape(X_vgg_test.shape[0], -1)\n",
    "print(\"X_val:\",X_test_flat.shape)"
   ]
  },
  {
   "cell_type": "code",
   "execution_count": 36,
   "metadata": {},
   "outputs": [
    {
     "name": "stdout",
     "output_type": "stream",
     "text": [
      "[1 3 5 2 2 1 1 3 0 1 4 4 2 4 2 3 1 3 5 5 5 3 5 3 3 1 3 4 1 1 3 4 5 4 1 5 3\n",
      " 1 2 5 1 5 5 2 2 5 2 4 0 1 1 2 2 2 5 3 3 1 2 2 5 2 5 1 1 5 5 1 1 1 5 1 1 1\n",
      " 4 3 1 1 1 5 0 5 5 1 4 3 0 4 2 5 4 3 1 4 5 4 1 3 5 5 1 5 1 1 5 1 5 2 5 0 4\n",
      " 0 1 4 0 1 1 3 3 3 5 5 2 1 0 5 5 2 1 4 2 5 5 1 1 1 2 2 1 1 1 4 1 2 1 4 1 1\n",
      " 4 3 1 5 5 3 1 1 3 4 5 5 3 1 1 1 2 3 5 2 4 4 2 5 3 1 4 5 5 4 2 1 1 4 1 3 3\n",
      " 5 4 4 3 3 1 3 2 1 3 3 1 4 1 1 5 1 1 3 1 5 5 1 2 1 3 1 3 4 2 1 5 2 5 1 5 1\n",
      " 1 5 5 3 4 2 5 5 1 5 1 2 5 4 5 1 5 1 2 1 4 5 1 4 2 1 5 1 1 5 1 3 3 4 2 2 5\n",
      " 5 5 5 5 1 5 1 5 1 5 1 0 5 1 1 5 4 2 5 4 1 5 5 3 5 1 2 3 1 2 1 5 4 5 1 4 2\n",
      " 1 1 2]\n"
     ]
    }
   ],
   "source": [
    "from sklearn.metrics import accuracy_score\n",
    "\n",
    "proba = ova_clf.predict_proba(X_test_flat)  \n",
    "test_pred = np.argmax(proba, axis=1)\n",
    "print(test_pred)\n"
   ]
  },
  {
   "cell_type": "code",
   "execution_count": 37,
   "metadata": {},
   "outputs": [
    {
     "name": "stdout",
     "output_type": "stream",
     "text": [
      "CSV file saved to task1_test_predictions.csv\n"
     ]
    }
   ],
   "source": [
    "import numpy as np\n",
    "import pandas as pd\n",
    "\n",
    "\n",
    "num_classes = 6\n",
    "\n",
    "# Convert class indices to one-hot encoding\n",
    "one_hot_pred = np.zeros((len(test_pred), num_classes))\n",
    "one_hot_pred[np.arange(len(test_pred)), test_pred] = 1\n",
    "\n",
    "# Column names\n",
    "columns = ['frontal_view_video_name', 'Left Lane Change', 'Left Turn', 'Right Lane Change', 'Right Turn', 'Slow-Stop', 'Straight']\n",
    "\n",
    "# Create a DataFrame\n",
    "df = pd.DataFrame(one_hot_pred, columns=columns[1:])\n",
    "df.insert(0, 'frontal_view_video_name', files)\n",
    "\n",
    "# Save to CSV\n",
    "csv_file_path = 'task1_test_predictions.csv'\n",
    "df.to_csv(csv_file_path, index=False)\n",
    "\n",
    "print(f\"CSV file saved to {csv_file_path}\")\n"
   ]
  }
 ],
 "metadata": {
  "kernelspec": {
   "display_name": "Python 3",
   "language": "python",
   "name": "python3"
  },
  "language_info": {
   "codemirror_mode": {
    "name": "ipython",
    "version": 3
   },
   "file_extension": ".py",
   "mimetype": "text/x-python",
   "name": "python",
   "nbconvert_exporter": "python",
   "pygments_lexer": "ipython3",
   "version": "3.11.3"
  }
 },
 "nbformat": 4,
 "nbformat_minor": 2
}
